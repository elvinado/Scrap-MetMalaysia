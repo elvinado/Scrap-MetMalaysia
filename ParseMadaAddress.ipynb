{
 "cells": [
  {
   "cell_type": "code",
   "execution_count": 1,
   "metadata": {},
   "outputs": [],
   "source": [
    "import re"
   ]
  },
  {
   "cell_type": "code",
   "execution_count": 2,
   "metadata": {},
   "outputs": [],
   "source": [
    "with open(\"MADAAddresses.txt\",\"r\") as file:\n",
    "    lines = file.readlines()"
   ]
  },
  {
   "cell_type": "code",
   "execution_count": 3,
   "metadata": {},
   "outputs": [],
   "source": [
    "lines = [line.strip() for line in lines] "
   ]
  },
  {
   "cell_type": "code",
   "execution_count": 4,
   "metadata": {},
   "outputs": [],
   "source": [
    "head_idx = [lines.index(line) for line in lines if \"ALAMAT\" in line]"
   ]
  },
  {
   "cell_type": "code",
   "execution_count": 5,
   "metadata": {},
   "outputs": [],
   "source": [
    "wilayah_idx = []\n",
    "for i,idx in enumerate(head_idx):\n",
    "    try:\n",
    "        wilayah_idx.append([idx,head_idx[i+1]])\n",
    "    except IndexError:\n",
    "        wilayah_idx.append([idx,len(lines)])"
   ]
  },
  {
   "cell_type": "code",
   "execution_count": 6,
   "metadata": {},
   "outputs": [],
   "source": [
    "wilayahs = []\n",
    "for start,end in wilayah_idx:\n",
    "    wilayahs.append(lines[start:end])"
   ]
  },
  {
   "cell_type": "code",
   "execution_count": 7,
   "metadata": {},
   "outputs": [],
   "source": [
    "dics = []\n",
    "for wils in wilayahs:\n",
    "    fbs = [wils.index(line) for line in wils if \"(fb)\" in line]\n",
    "    content_idx = []\n",
    "    for i,fb in enumerate(fbs):\n",
    "        if i == 0:\n",
    "            content_idx.append([1,fb+1])\n",
    "        else:\n",
    "            content_idx.append([fbs[i-1],fb+1])\n",
    "    dic = {\n",
    "        \"name\":wils[0],\n",
    "        \"details\":[]}\n",
    "    for start,end in content_idx:\n",
    "        group = wils[start:end]\n",
    "        dic[\"details\"].append({\n",
    "            \"name\":wils[0],\n",
    "            \"address\":\" \".join(group[1:-3]),\n",
    "            \"tel\":group[-3],\n",
    "            \"fax\":group[-2],\n",
    "            \"fb\":group[-1]\n",
    "        })\n",
    "    dics.append(dic)"
   ]
  },
  {
   "cell_type": "code",
   "execution_count": 8,
   "metadata": {},
   "outputs": [],
   "source": [
    "dics = []\n",
    "for wils in wilayahs:\n",
    "    fbs = [wils.index(line) for line in wils if \"(fb)\" in line]\n",
    "    content_idx = []\n",
    "    for i,fb in enumerate(fbs):\n",
    "        if i == 0:\n",
    "            content_idx.append([1,fb+1])\n",
    "        else:\n",
    "            content_idx.append([fbs[i-1],fb+1])\n",
    "    for start,end in content_idx:\n",
    "        group = wils[start:end]\n",
    "        dics.append({\n",
    "            \"name\":wils[0].replace(\"ALAMAT \",\"\"),\n",
    "            \"address\":\" \".join(group[1:-3]),\n",
    "            \"tel\":group[-3].replace(\"(tel) \",\"\"),\n",
    "            \"fax\":group[-2].replace(\"(fax) \",\"\"),\n",
    "            \"fb\":group[-1].replace(\"(fb) \",\"\")\n",
    "        })\n"
   ]
  },
  {
   "cell_type": "code",
   "execution_count": 9,
   "metadata": {},
   "outputs": [],
   "source": [
    "import pandas as pd\n",
    "df = pd.DataFrame(dics).set_index(\"name\")\n"
   ]
  },
  {
   "cell_type": "code",
   "execution_count": 10,
   "metadata": {},
   "outputs": [],
   "source": [
    "df.to_csv(\"data/mada_addresses.csv\")"
   ]
  },
  {
   "cell_type": "code",
   "execution_count": null,
   "metadata": {},
   "outputs": [],
   "source": []
  }
 ],
 "metadata": {
  "kernelspec": {
   "display_name": "Python 3.10.8 ('Scrap-MetMalaysia': venv)",
   "language": "python",
   "name": "python3"
  },
  "language_info": {
   "codemirror_mode": {
    "name": "ipython",
    "version": 3
   },
   "file_extension": ".py",
   "mimetype": "text/x-python",
   "name": "python",
   "nbconvert_exporter": "python",
   "pygments_lexer": "ipython3",
   "version": "3.10.8"
  },
  "orig_nbformat": 4,
  "vscode": {
   "interpreter": {
    "hash": "3d82e6b3622e44b6cf51a21a44411e2e93f83ce6d7faf6c43eb0b70642593e2a"
   }
  }
 },
 "nbformat": 4,
 "nbformat_minor": 2
}
